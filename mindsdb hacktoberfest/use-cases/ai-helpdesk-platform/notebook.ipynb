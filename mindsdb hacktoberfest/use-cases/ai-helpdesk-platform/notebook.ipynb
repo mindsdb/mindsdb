{
 "cells": [
  {
   "cell_type": "code",
   "execution_count": 1,
   "id": "c03b3131",
   "metadata": {},
   "outputs": [],
   "source": [
    "import pandas as pd\n",
    "import mindsdb_sdk as mdb"
   ]
  },
  {
   "cell_type": "code",
   "execution_count": 90,
   "id": "6b2cb2d7",
   "metadata": {},
   "outputs": [],
   "source": [
    "LLM_MODEL_NAME = \"Qwen/Qwen3-235B-A22B-Thinking-2507\"\n",
    "EMBEDDING_MODEL_NAME = \"Qwen/Qwen3-Embedding-8B\"\n",
    "NEBIUS_BASE_URL = \"https://api.studio.nebius.com/v1/\"\n",
    "NEBIUS_API_KEY = \"...\""
   ]
  },
  {
   "cell_type": "markdown",
   "id": "9071da85",
   "metadata": {},
   "source": [
    "## Preprocess Data and Upload to MindsDB Files db"
   ]
  },
  {
   "cell_type": "markdown",
   "id": "d8edf8a2",
   "metadata": {},
   "source": [
    "Load Dataset"
   ]
  },
  {
   "cell_type": "code",
   "execution_count": null,
   "id": "2eff0223",
   "metadata": {},
   "outputs": [
    {
     "data": {
      "text/html": [
       "<div>\n",
       "<style scoped>\n",
       "    .dataframe tbody tr th:only-of-type {\n",
       "        vertical-align: middle;\n",
       "    }\n",
       "\n",
       "    .dataframe tbody tr th {\n",
       "        vertical-align: top;\n",
       "    }\n",
       "\n",
       "    .dataframe thead th {\n",
       "        text-align: right;\n",
       "    }\n",
       "</style>\n",
       "<table border=\"1\" class=\"dataframe\">\n",
       "  <thead>\n",
       "    <tr style=\"text-align: right;\">\n",
       "      <th></th>\n",
       "      <th>subject</th>\n",
       "      <th>body</th>\n",
       "      <th>answer</th>\n",
       "      <th>type</th>\n",
       "      <th>queue</th>\n",
       "      <th>priority</th>\n",
       "      <th>language</th>\n",
       "      <th>business_type</th>\n",
       "      <th>tag_1</th>\n",
       "      <th>tag_2</th>\n",
       "      <th>tag_3</th>\n",
       "      <th>tag_4</th>\n",
       "      <th>tag_5</th>\n",
       "      <th>tag_6</th>\n",
       "      <th>tag_7</th>\n",
       "      <th>tag_8</th>\n",
       "      <th>tag_9</th>\n",
       "    </tr>\n",
       "  </thead>\n",
       "  <tbody>\n",
       "    <tr>\n",
       "      <th>0</th>\n",
       "      <td>Problema crítico del servidor requiere atenció...</td>\n",
       "      <td>Es necesaria una investigación inmediata sobre...</td>\n",
       "      <td>Estamos investigando urgentemente el problema ...</td>\n",
       "      <td>Incident</td>\n",
       "      <td>Technical Support</td>\n",
       "      <td>high</td>\n",
       "      <td>es</td>\n",
       "      <td>IT Services</td>\n",
       "      <td>Urgent Issue</td>\n",
       "      <td>Service Disruption</td>\n",
       "      <td>Incident Report</td>\n",
       "      <td>Service Recovery</td>\n",
       "      <td>System Maintenance</td>\n",
       "      <td>NaN</td>\n",
       "      <td>NaN</td>\n",
       "      <td>NaN</td>\n",
       "      <td>NaN</td>\n",
       "    </tr>\n",
       "    <tr>\n",
       "      <th>1</th>\n",
       "      <td>Anfrage zur Verfügbarkeit des Dell XPS 13 9310</td>\n",
       "      <td>Sehr geehrter Kundenservice,\\n\\nich hoffe, die...</td>\n",
       "      <td>Sehr geehrter &lt;name&gt;,\\n\\nvielen Dank, dass Sie...</td>\n",
       "      <td>Request</td>\n",
       "      <td>Customer Service</td>\n",
       "      <td>low</td>\n",
       "      <td>de</td>\n",
       "      <td>Tech Online Store</td>\n",
       "      <td>Sales Inquiry</td>\n",
       "      <td>Product Support</td>\n",
       "      <td>Customer Service</td>\n",
       "      <td>Order Issue</td>\n",
       "      <td>Returns and Exchanges</td>\n",
       "      <td>NaN</td>\n",
       "      <td>NaN</td>\n",
       "      <td>NaN</td>\n",
       "      <td>NaN</td>\n",
       "    </tr>\n",
       "    <tr>\n",
       "      <th>2</th>\n",
       "      <td>Erro na Autocompletação de Código do IntelliJ ...</td>\n",
       "      <td>Prezado Suporte ao Cliente &lt;name&gt;,\\n\\nEstou es...</td>\n",
       "      <td>Prezado &lt;name&gt;,\\n\\nObrigado por entrar em cont...</td>\n",
       "      <td>Incident</td>\n",
       "      <td>Technical Support</td>\n",
       "      <td>high</td>\n",
       "      <td>pt</td>\n",
       "      <td>IT Services</td>\n",
       "      <td>Technical Support</td>\n",
       "      <td>Software Bug</td>\n",
       "      <td>Problem Resolution</td>\n",
       "      <td>Urgent Issue</td>\n",
       "      <td>IT Support</td>\n",
       "      <td>NaN</td>\n",
       "      <td>NaN</td>\n",
       "      <td>NaN</td>\n",
       "      <td>NaN</td>\n",
       "    </tr>\n",
       "    <tr>\n",
       "      <th>3</th>\n",
       "      <td>Urgent Assistance Required: AWS Service</td>\n",
       "      <td>Dear IT Services Support Team, \\n\\nI am reachi...</td>\n",
       "      <td>Dear &lt;name&gt;,\\n\\nThank you for reaching out reg...</td>\n",
       "      <td>Request</td>\n",
       "      <td>IT Support</td>\n",
       "      <td>high</td>\n",
       "      <td>en</td>\n",
       "      <td>IT Services</td>\n",
       "      <td>IT Support</td>\n",
       "      <td>Urgent Issue</td>\n",
       "      <td>Service Notification</td>\n",
       "      <td>Cloud Services</td>\n",
       "      <td>Problem Resolution</td>\n",
       "      <td>Technical Guidance</td>\n",
       "      <td>Performance Tuning</td>\n",
       "      <td>NaN</td>\n",
       "      <td>NaN</td>\n",
       "    </tr>\n",
       "    <tr>\n",
       "      <th>4</th>\n",
       "      <td>Problème d'affichage de MacBook Air</td>\n",
       "      <td>Cher équipe de support du magasin en ligne Tec...</td>\n",
       "      <td>Cher &lt;name&gt;,\\n\\nMerci de nous avoir contactés ...</td>\n",
       "      <td>Incident</td>\n",
       "      <td>Product Support</td>\n",
       "      <td>low</td>\n",
       "      <td>fr</td>\n",
       "      <td>Tech Online Store</td>\n",
       "      <td>Technical Support</td>\n",
       "      <td>Product Support</td>\n",
       "      <td>Hardware Failure</td>\n",
       "      <td>Service Recovery</td>\n",
       "      <td>Routine Request</td>\n",
       "      <td>NaN</td>\n",
       "      <td>NaN</td>\n",
       "      <td>NaN</td>\n",
       "      <td>NaN</td>\n",
       "    </tr>\n",
       "  </tbody>\n",
       "</table>\n",
       "</div>"
      ],
      "text/plain": [
       "                                             subject  \\\n",
       "0  Problema crítico del servidor requiere atenció...   \n",
       "1     Anfrage zur Verfügbarkeit des Dell XPS 13 9310   \n",
       "2  Erro na Autocompletação de Código do IntelliJ ...   \n",
       "3            Urgent Assistance Required: AWS Service   \n",
       "4                Problème d'affichage de MacBook Air   \n",
       "\n",
       "                                                body  \\\n",
       "0  Es necesaria una investigación inmediata sobre...   \n",
       "1  Sehr geehrter Kundenservice,\\n\\nich hoffe, die...   \n",
       "2  Prezado Suporte ao Cliente <name>,\\n\\nEstou es...   \n",
       "3  Dear IT Services Support Team, \\n\\nI am reachi...   \n",
       "4  Cher équipe de support du magasin en ligne Tec...   \n",
       "\n",
       "                                              answer      type  \\\n",
       "0  Estamos investigando urgentemente el problema ...  Incident   \n",
       "1  Sehr geehrter <name>,\\n\\nvielen Dank, dass Sie...   Request   \n",
       "2  Prezado <name>,\\n\\nObrigado por entrar em cont...  Incident   \n",
       "3  Dear <name>,\\n\\nThank you for reaching out reg...   Request   \n",
       "4  Cher <name>,\\n\\nMerci de nous avoir contactés ...  Incident   \n",
       "\n",
       "               queue priority language      business_type              tag_1  \\\n",
       "0  Technical Support     high       es        IT Services       Urgent Issue   \n",
       "1   Customer Service      low       de  Tech Online Store      Sales Inquiry   \n",
       "2  Technical Support     high       pt        IT Services  Technical Support   \n",
       "3         IT Support     high       en        IT Services         IT Support   \n",
       "4    Product Support      low       fr  Tech Online Store  Technical Support   \n",
       "\n",
       "                tag_2                 tag_3             tag_4  \\\n",
       "0  Service Disruption       Incident Report  Service Recovery   \n",
       "1     Product Support      Customer Service       Order Issue   \n",
       "2        Software Bug    Problem Resolution      Urgent Issue   \n",
       "3        Urgent Issue  Service Notification    Cloud Services   \n",
       "4     Product Support      Hardware Failure  Service Recovery   \n",
       "\n",
       "                   tag_5               tag_6               tag_7 tag_8  tag_9  \n",
       "0     System Maintenance                 NaN                 NaN   NaN    NaN  \n",
       "1  Returns and Exchanges                 NaN                 NaN   NaN    NaN  \n",
       "2             IT Support                 NaN                 NaN   NaN    NaN  \n",
       "3     Problem Resolution  Technical Guidance  Performance Tuning   NaN    NaN  \n",
       "4        Routine Request                 NaN                 NaN   NaN    NaN  "
      ]
     },
     "execution_count": 10,
     "metadata": {},
     "output_type": "execute_result"
    }
   ],
   "source": [
    "df = pd.read_csv(r\"data/dataset-tickets-multi-lang3-4k.csv\")\n",
    "df.head()"
   ]
  },
  {
   "cell_type": "code",
   "execution_count": 11,
   "id": "aa465e83",
   "metadata": {},
   "outputs": [
    {
     "name": "stdout",
     "output_type": "stream",
     "text": [
      "<class 'pandas.core.frame.DataFrame'>\n",
      "RangeIndex: 4000 entries, 0 to 3999\n",
      "Data columns (total 17 columns):\n",
      " #   Column         Non-Null Count  Dtype  \n",
      "---  ------         --------------  -----  \n",
      " 0   subject        3533 non-null   object \n",
      " 1   body           3999 non-null   object \n",
      " 2   answer         4000 non-null   object \n",
      " 3   type           4000 non-null   object \n",
      " 4   queue          4000 non-null   object \n",
      " 5   priority       4000 non-null   object \n",
      " 6   language       4000 non-null   object \n",
      " 7   business_type  4000 non-null   object \n",
      " 8   tag_1          4000 non-null   object \n",
      " 9   tag_2          4000 non-null   object \n",
      " 10  tag_3          4000 non-null   object \n",
      " 11  tag_4          3999 non-null   object \n",
      " 12  tag_5          3363 non-null   object \n",
      " 13  tag_6          2181 non-null   object \n",
      " 14  tag_7          1045 non-null   object \n",
      " 15  tag_8          269 non-null    object \n",
      " 16  tag_9          0 non-null      float64\n",
      "dtypes: float64(1), object(16)\n",
      "memory usage: 531.4+ KB\n"
     ]
    }
   ],
   "source": [
    "df.info()"
   ]
  },
  {
   "cell_type": "markdown",
   "id": "5da50ed7",
   "metadata": {},
   "source": [
    "Preprocess"
   ]
  },
  {
   "cell_type": "code",
   "execution_count": 15,
   "id": "770dd2d7",
   "metadata": {},
   "outputs": [
    {
     "data": {
      "text/html": [
       "<div>\n",
       "<style scoped>\n",
       "    .dataframe tbody tr th:only-of-type {\n",
       "        vertical-align: middle;\n",
       "    }\n",
       "\n",
       "    .dataframe tbody tr th {\n",
       "        vertical-align: top;\n",
       "    }\n",
       "\n",
       "    .dataframe thead th {\n",
       "        text-align: right;\n",
       "    }\n",
       "</style>\n",
       "<table border=\"1\" class=\"dataframe\">\n",
       "  <thead>\n",
       "    <tr style=\"text-align: right;\">\n",
       "      <th></th>\n",
       "      <th>subject</th>\n",
       "      <th>body</th>\n",
       "      <th>answer</th>\n",
       "      <th>priority</th>\n",
       "      <th>type</th>\n",
       "      <th>category</th>\n",
       "      <th>tag_1</th>\n",
       "      <th>tag_2</th>\n",
       "    </tr>\n",
       "  </thead>\n",
       "  <tbody>\n",
       "    <tr>\n",
       "      <th>3</th>\n",
       "      <td>Urgent Assistance Required: AWS Service</td>\n",
       "      <td>Dear IT Services Support Team, \\n\\nI am reachi...</td>\n",
       "      <td>Dear &lt;name&gt;,\\n\\nThank you for reaching out reg...</td>\n",
       "      <td>high</td>\n",
       "      <td>Request</td>\n",
       "      <td>IT Support</td>\n",
       "      <td>IT Support</td>\n",
       "      <td>Urgent Issue</td>\n",
       "    </tr>\n",
       "    <tr>\n",
       "      <th>5</th>\n",
       "      <td>Urgent: Issue with Zoom Screen Sharing Feature</td>\n",
       "      <td>Dear Customer Support,\\n\\nI am experiencing a ...</td>\n",
       "      <td>Dear &lt;name&gt;,\\n\\nThank you for reaching out. We...</td>\n",
       "      <td>high</td>\n",
       "      <td>Incident</td>\n",
       "      <td>Technical Support</td>\n",
       "      <td>Technical Support</td>\n",
       "      <td>Urgent Issue</td>\n",
       "    </tr>\n",
       "    <tr>\n",
       "      <th>7</th>\n",
       "      <td>Service outage resolution requested for ongoin...</td>\n",
       "      <td>Dear IT Services Customer Support,\\n\\nI am wri...</td>\n",
       "      <td>Dear &lt;name&gt;,\\n\\nThank you for reaching out to ...</td>\n",
       "      <td>high</td>\n",
       "      <td>Change</td>\n",
       "      <td>Service Outages and Maintenance</td>\n",
       "      <td>Service Outage</td>\n",
       "      <td>IT Support</td>\n",
       "    </tr>\n",
       "    <tr>\n",
       "      <th>8</th>\n",
       "      <td>Surface Pro 7 Issue</td>\n",
       "      <td>Dear Tech Online Store Support Team,\\n\\nI hope...</td>\n",
       "      <td>Dear &lt;name&gt;,\\n\\nThank you for reaching out to ...</td>\n",
       "      <td>medium</td>\n",
       "      <td>Incident</td>\n",
       "      <td>Product Support</td>\n",
       "      <td>Technical Support</td>\n",
       "      <td>Product Support</td>\n",
       "    </tr>\n",
       "    <tr>\n",
       "      <th>10</th>\n",
       "      <td>Request for software development consultation ...</td>\n",
       "      <td>Dear Customer Support,\\n\\nI hope this message ...</td>\n",
       "      <td>Dear &lt;name&gt;,\\n\\nThank you for reaching out reg...</td>\n",
       "      <td>medium</td>\n",
       "      <td>Request</td>\n",
       "      <td>Technical Support</td>\n",
       "      <td>IT Support</td>\n",
       "      <td>Technical Guidance</td>\n",
       "    </tr>\n",
       "  </tbody>\n",
       "</table>\n",
       "</div>"
      ],
      "text/plain": [
       "                                              subject  \\\n",
       "3             Urgent Assistance Required: AWS Service   \n",
       "5      Urgent: Issue with Zoom Screen Sharing Feature   \n",
       "7   Service outage resolution requested for ongoin...   \n",
       "8                                 Surface Pro 7 Issue   \n",
       "10  Request for software development consultation ...   \n",
       "\n",
       "                                                 body  \\\n",
       "3   Dear IT Services Support Team, \\n\\nI am reachi...   \n",
       "5   Dear Customer Support,\\n\\nI am experiencing a ...   \n",
       "7   Dear IT Services Customer Support,\\n\\nI am wri...   \n",
       "8   Dear Tech Online Store Support Team,\\n\\nI hope...   \n",
       "10  Dear Customer Support,\\n\\nI hope this message ...   \n",
       "\n",
       "                                               answer priority      type  \\\n",
       "3   Dear <name>,\\n\\nThank you for reaching out reg...     high   Request   \n",
       "5   Dear <name>,\\n\\nThank you for reaching out. We...     high  Incident   \n",
       "7   Dear <name>,\\n\\nThank you for reaching out to ...     high    Change   \n",
       "8   Dear <name>,\\n\\nThank you for reaching out to ...   medium  Incident   \n",
       "10  Dear <name>,\\n\\nThank you for reaching out reg...   medium   Request   \n",
       "\n",
       "                           category              tag_1               tag_2  \n",
       "3                        IT Support         IT Support        Urgent Issue  \n",
       "5                 Technical Support  Technical Support        Urgent Issue  \n",
       "7   Service Outages and Maintenance     Service Outage          IT Support  \n",
       "8                   Product Support  Technical Support     Product Support  \n",
       "10                Technical Support         IT Support  Technical Guidance  "
      ]
     },
     "execution_count": 15,
     "metadata": {},
     "output_type": "execute_result"
    }
   ],
   "source": [
    "df = df.loc[\n",
    "    df[\"language\"] == \"en\",\n",
    "    [\n",
    "        \"subject\",\n",
    "        \"body\",\n",
    "        \"answer\",\n",
    "        \"priority\",\n",
    "        \"type\",\n",
    "        \"queue\",\n",
    "        \"tag_1\",\n",
    "        \"tag_2\",\n",
    "    ],\n",
    "]\n",
    "\n",
    "df = df.rename(columns={\"queue\": \"category\"})\n",
    "\n",
    "df.head()"
   ]
  },
  {
   "cell_type": "markdown",
   "id": "b5c1c56c",
   "metadata": {},
   "source": [
    "Remove rows with missing body"
   ]
  },
  {
   "cell_type": "code",
   "execution_count": 19,
   "id": "51016947",
   "metadata": {},
   "outputs": [],
   "source": [
    "df = df.dropna(subset=[\"body\", \"subject\"])"
   ]
  },
  {
   "cell_type": "code",
   "execution_count": 20,
   "id": "bf438b51",
   "metadata": {},
   "outputs": [
    {
     "data": {
      "text/plain": [
       "(1219, 8)"
      ]
     },
     "execution_count": 20,
     "metadata": {},
     "output_type": "execute_result"
    }
   ],
   "source": [
    "df.shape"
   ]
  },
  {
   "cell_type": "markdown",
   "id": "96a0cf2a",
   "metadata": {},
   "source": [
    "Add id column"
   ]
  },
  {
   "cell_type": "code",
   "execution_count": 37,
   "id": "43df2c86",
   "metadata": {},
   "outputs": [
    {
     "data": {
      "text/html": [
       "<div>\n",
       "<style scoped>\n",
       "    .dataframe tbody tr th:only-of-type {\n",
       "        vertical-align: middle;\n",
       "    }\n",
       "\n",
       "    .dataframe tbody tr th {\n",
       "        vertical-align: top;\n",
       "    }\n",
       "\n",
       "    .dataframe thead th {\n",
       "        text-align: right;\n",
       "    }\n",
       "</style>\n",
       "<table border=\"1\" class=\"dataframe\">\n",
       "  <thead>\n",
       "    <tr style=\"text-align: right;\">\n",
       "      <th></th>\n",
       "      <th>subject</th>\n",
       "      <th>body</th>\n",
       "      <th>answer</th>\n",
       "      <th>priority</th>\n",
       "      <th>type</th>\n",
       "      <th>category</th>\n",
       "      <th>tag_1</th>\n",
       "      <th>tag_2</th>\n",
       "      <th>id</th>\n",
       "    </tr>\n",
       "  </thead>\n",
       "  <tbody>\n",
       "    <tr>\n",
       "      <th>0</th>\n",
       "      <td>Urgent Assistance Required: AWS Service</td>\n",
       "      <td>Dear IT Services Support Team, \\n\\nI am reachi...</td>\n",
       "      <td>Dear &lt;name&gt;,\\n\\nThank you for reaching out reg...</td>\n",
       "      <td>high</td>\n",
       "      <td>Request</td>\n",
       "      <td>IT Support</td>\n",
       "      <td>IT Support</td>\n",
       "      <td>Urgent Issue</td>\n",
       "      <td>0</td>\n",
       "    </tr>\n",
       "    <tr>\n",
       "      <th>1</th>\n",
       "      <td>Urgent: Issue with Zoom Screen Sharing Feature</td>\n",
       "      <td>Dear Customer Support,\\n\\nI am experiencing a ...</td>\n",
       "      <td>Dear &lt;name&gt;,\\n\\nThank you for reaching out. We...</td>\n",
       "      <td>high</td>\n",
       "      <td>Incident</td>\n",
       "      <td>Technical Support</td>\n",
       "      <td>Technical Support</td>\n",
       "      <td>Urgent Issue</td>\n",
       "      <td>1</td>\n",
       "    </tr>\n",
       "    <tr>\n",
       "      <th>2</th>\n",
       "      <td>Service outage resolution requested for ongoin...</td>\n",
       "      <td>Dear IT Services Customer Support,\\n\\nI am wri...</td>\n",
       "      <td>Dear &lt;name&gt;,\\n\\nThank you for reaching out to ...</td>\n",
       "      <td>high</td>\n",
       "      <td>Change</td>\n",
       "      <td>Service Outages and Maintenance</td>\n",
       "      <td>Service Outage</td>\n",
       "      <td>IT Support</td>\n",
       "      <td>2</td>\n",
       "    </tr>\n",
       "    <tr>\n",
       "      <th>3</th>\n",
       "      <td>Surface Pro 7 Issue</td>\n",
       "      <td>Dear Tech Online Store Support Team,\\n\\nI hope...</td>\n",
       "      <td>Dear &lt;name&gt;,\\n\\nThank you for reaching out to ...</td>\n",
       "      <td>medium</td>\n",
       "      <td>Incident</td>\n",
       "      <td>Product Support</td>\n",
       "      <td>Technical Support</td>\n",
       "      <td>Product Support</td>\n",
       "      <td>3</td>\n",
       "    </tr>\n",
       "    <tr>\n",
       "      <th>4</th>\n",
       "      <td>Request for software development consultation ...</td>\n",
       "      <td>Dear Customer Support,\\n\\nI hope this message ...</td>\n",
       "      <td>Dear &lt;name&gt;,\\n\\nThank you for reaching out reg...</td>\n",
       "      <td>medium</td>\n",
       "      <td>Request</td>\n",
       "      <td>Technical Support</td>\n",
       "      <td>IT Support</td>\n",
       "      <td>Technical Guidance</td>\n",
       "      <td>4</td>\n",
       "    </tr>\n",
       "  </tbody>\n",
       "</table>\n",
       "</div>"
      ],
      "text/plain": [
       "                                             subject  \\\n",
       "0            Urgent Assistance Required: AWS Service   \n",
       "1     Urgent: Issue with Zoom Screen Sharing Feature   \n",
       "2  Service outage resolution requested for ongoin...   \n",
       "3                                Surface Pro 7 Issue   \n",
       "4  Request for software development consultation ...   \n",
       "\n",
       "                                                body  \\\n",
       "0  Dear IT Services Support Team, \\n\\nI am reachi...   \n",
       "1  Dear Customer Support,\\n\\nI am experiencing a ...   \n",
       "2  Dear IT Services Customer Support,\\n\\nI am wri...   \n",
       "3  Dear Tech Online Store Support Team,\\n\\nI hope...   \n",
       "4  Dear Customer Support,\\n\\nI hope this message ...   \n",
       "\n",
       "                                              answer priority      type  \\\n",
       "0  Dear <name>,\\n\\nThank you for reaching out reg...     high   Request   \n",
       "1  Dear <name>,\\n\\nThank you for reaching out. We...     high  Incident   \n",
       "2  Dear <name>,\\n\\nThank you for reaching out to ...     high    Change   \n",
       "3  Dear <name>,\\n\\nThank you for reaching out to ...   medium  Incident   \n",
       "4  Dear <name>,\\n\\nThank you for reaching out reg...   medium   Request   \n",
       "\n",
       "                          category              tag_1               tag_2  id  \n",
       "0                       IT Support         IT Support        Urgent Issue   0  \n",
       "1                Technical Support  Technical Support        Urgent Issue   1  \n",
       "2  Service Outages and Maintenance     Service Outage          IT Support   2  \n",
       "3                  Product Support  Technical Support     Product Support   3  \n",
       "4                Technical Support         IT Support  Technical Guidance   4  "
      ]
     },
     "execution_count": 37,
     "metadata": {},
     "output_type": "execute_result"
    }
   ],
   "source": [
    "df.reset_index(drop=True, inplace=True)\n",
    "df[\"id\"] = df.index\n",
    "df.head()"
   ]
  },
  {
   "cell_type": "markdown",
   "id": "8fea9a1e",
   "metadata": {},
   "source": [
    "Select 600 records as our sample"
   ]
  },
  {
   "cell_type": "code",
   "execution_count": 39,
   "id": "02d2c0b5",
   "metadata": {},
   "outputs": [],
   "source": [
    "df_sample = df.sample(n=600, random_state=42)"
   ]
  },
  {
   "cell_type": "code",
   "execution_count": 40,
   "id": "24aa4436",
   "metadata": {},
   "outputs": [
    {
     "name": "stdout",
     "output_type": "stream",
     "text": [
      "<class 'pandas.core.frame.DataFrame'>\n",
      "Index: 600 entries, 542 to 694\n",
      "Data columns (total 9 columns):\n",
      " #   Column    Non-Null Count  Dtype \n",
      "---  ------    --------------  ----- \n",
      " 0   subject   600 non-null    object\n",
      " 1   body      600 non-null    object\n",
      " 2   answer    600 non-null    object\n",
      " 3   priority  600 non-null    object\n",
      " 4   type      600 non-null    object\n",
      " 5   category  600 non-null    object\n",
      " 6   tag_1     600 non-null    object\n",
      " 7   tag_2     600 non-null    object\n",
      " 8   id        600 non-null    int64 \n",
      "dtypes: int64(1), object(8)\n",
      "memory usage: 46.9+ KB\n"
     ]
    }
   ],
   "source": [
    "df_sample.info()"
   ]
  },
  {
   "cell_type": "code",
   "execution_count": 53,
   "id": "7e327f8c",
   "metadata": {},
   "outputs": [
    {
     "name": "stdout",
     "output_type": "stream",
     "text": [
      "type\n",
      "Incident,Request,Problem,Change\n",
      "priority\n",
      "high,medium,low\n",
      "category\n",
      "Technical Support,Returns and Exchanges,Customer Service,Product Support,Billing and Payments,Sales and Pre-Sales,IT Support,Service Outages and Maintenance,General Inquiry,Human Resources\n",
      "tag_1\n",
      "Urgent Issue,IT Support,Technical Support,Returns and Exchanges,Billing Issue,Payment Processing,Sales Inquiry,Service Disruption,Software Bug,Customer Feedback,Account Security,Service Outage,Product Support,Network Issue,Customer Service,Performance Tuning,Warranty Claim,Technical Guidance,Data Breach,Incident Report,Consulting Services,Account Assistance,Login Issue,General Inquiry\n",
      "tag_2\n",
      "Technical Support,Urgent Issue,Billing Issue,Product Support,IT Support,Network Issue,Service Disruption,Performance Tuning,Payment Processing,Incident Report,Refund Request,Customer Service,Technical Guidance,Problem Resolution,Account Assistance,Software Bug,Returns and Exchanges,System Crash,System Maintenance,Sales Inquiry,Order Issue,Hardware Failure,Login Issue,Service Outage,Cloud Services,Product Replacement,Feature Request,Account Security,Service Recovery,Data Breach,Shipping Inquiry,Warranty Claim\n"
     ]
    }
   ],
   "source": [
    "for key in [\"type\", \"priority\", \"category\", \"tag_1\", \"tag_2\"]:\n",
    "    print(key)\n",
    "    print(\",\".join(df_sample[key].unique().tolist()))"
   ]
  },
  {
   "cell_type": "markdown",
   "id": "df5b755e",
   "metadata": {},
   "source": [
    "Upload the dataset to MindsDB"
   ]
  },
  {
   "cell_type": "code",
   "execution_count": 23,
   "id": "81e5defb",
   "metadata": {},
   "outputs": [],
   "source": [
    "server = mdb.connect()\n",
    "files = server.get_database(\"files\")"
   ]
  },
  {
   "cell_type": "code",
   "execution_count": 41,
   "id": "6836cb85",
   "metadata": {},
   "outputs": [
    {
     "data": {
      "text/plain": [
       "Table(files.tickets)"
      ]
     },
     "execution_count": 41,
     "metadata": {},
     "output_type": "execute_result"
    }
   ],
   "source": [
    "files.create_table(\"tickets\", df_sample)"
   ]
  },
  {
   "cell_type": "code",
   "execution_count": 42,
   "id": "bcb46c18",
   "metadata": {},
   "outputs": [
    {
     "data": {
      "text/html": [
       "<div>\n",
       "<style scoped>\n",
       "    .dataframe tbody tr th:only-of-type {\n",
       "        vertical-align: middle;\n",
       "    }\n",
       "\n",
       "    .dataframe tbody tr th {\n",
       "        vertical-align: top;\n",
       "    }\n",
       "\n",
       "    .dataframe thead th {\n",
       "        text-align: right;\n",
       "    }\n",
       "</style>\n",
       "<table border=\"1\" class=\"dataframe\">\n",
       "  <thead>\n",
       "    <tr style=\"text-align: right;\">\n",
       "      <th></th>\n",
       "      <th>subject</th>\n",
       "      <th>body</th>\n",
       "      <th>answer</th>\n",
       "      <th>priority</th>\n",
       "      <th>type</th>\n",
       "      <th>category</th>\n",
       "      <th>tag_1</th>\n",
       "      <th>tag_2</th>\n",
       "      <th>id</th>\n",
       "    </tr>\n",
       "  </thead>\n",
       "  <tbody>\n",
       "    <tr>\n",
       "      <th>0</th>\n",
       "      <td>Urgent Assistance Required: Zoom Issue</td>\n",
       "      <td>Greetings Customer Support Team,\\n\\nI trust th...</td>\n",
       "      <td>Dear &lt;name&gt;,\\n\\nWe appreciate you reaching out...</td>\n",
       "      <td>high</td>\n",
       "      <td>Incident</td>\n",
       "      <td>Technical Support</td>\n",
       "      <td>Urgent Issue</td>\n",
       "      <td>Technical Support</td>\n",
       "      <td>542</td>\n",
       "    </tr>\n",
       "    <tr>\n",
       "      <th>1</th>\n",
       "      <td>Urgent Assistance Needed for AWS Service</td>\n",
       "      <td>Dear IT Services Support,\\n\\nI am reaching out...</td>\n",
       "      <td>Dear &lt;name&gt;,\\n\\nThank you for reaching out. To...</td>\n",
       "      <td>high</td>\n",
       "      <td>Request</td>\n",
       "      <td>Technical Support</td>\n",
       "      <td>IT Support</td>\n",
       "      <td>Urgent Issue</td>\n",
       "      <td>259</td>\n",
       "    </tr>\n",
       "    <tr>\n",
       "      <th>2</th>\n",
       "      <td>Assistance Required: AWS Cost Optimization and...</td>\n",
       "      <td>Dear Customer Support Team, \\n\\nI hope this me...</td>\n",
       "      <td>Dear &lt;name&gt;,\\n\\nThank you for reaching out to ...</td>\n",
       "      <td>high</td>\n",
       "      <td>Request</td>\n",
       "      <td>Technical Support</td>\n",
       "      <td>Technical Support</td>\n",
       "      <td>Billing Issue</td>\n",
       "      <td>43</td>\n",
       "    </tr>\n",
       "    <tr>\n",
       "      <th>3</th>\n",
       "      <td>Urgent Exchange Needed for Defective MacBook</td>\n",
       "      <td>Dear Tech Online Store Customer Support Team,\\...</td>\n",
       "      <td>Dear &lt;name&gt;,\\n\\nThank you for reaching out to ...</td>\n",
       "      <td>high</td>\n",
       "      <td>Problem</td>\n",
       "      <td>Returns and Exchanges</td>\n",
       "      <td>Returns and Exchanges</td>\n",
       "      <td>Product Support</td>\n",
       "      <td>1009</td>\n",
       "    </tr>\n",
       "    <tr>\n",
       "      <th>4</th>\n",
       "      <td>Urgent Change Request for Consulting Service I...</td>\n",
       "      <td>Dear IT Services Customer Support Team, \\n\\nI ...</td>\n",
       "      <td>Dear &lt;name&gt;,\\n\\nThank you for reaching out wit...</td>\n",
       "      <td>high</td>\n",
       "      <td>Change</td>\n",
       "      <td>Customer Service</td>\n",
       "      <td>Urgent Issue</td>\n",
       "      <td>Technical Support</td>\n",
       "      <td>753</td>\n",
       "    </tr>\n",
       "  </tbody>\n",
       "</table>\n",
       "</div>"
      ],
      "text/plain": [
       "                                             subject  \\\n",
       "0             Urgent Assistance Required: Zoom Issue   \n",
       "1           Urgent Assistance Needed for AWS Service   \n",
       "2  Assistance Required: AWS Cost Optimization and...   \n",
       "3       Urgent Exchange Needed for Defective MacBook   \n",
       "4  Urgent Change Request for Consulting Service I...   \n",
       "\n",
       "                                                body  \\\n",
       "0  Greetings Customer Support Team,\\n\\nI trust th...   \n",
       "1  Dear IT Services Support,\\n\\nI am reaching out...   \n",
       "2  Dear Customer Support Team, \\n\\nI hope this me...   \n",
       "3  Dear Tech Online Store Customer Support Team,\\...   \n",
       "4  Dear IT Services Customer Support Team, \\n\\nI ...   \n",
       "\n",
       "                                              answer priority      type  \\\n",
       "0  Dear <name>,\\n\\nWe appreciate you reaching out...     high  Incident   \n",
       "1  Dear <name>,\\n\\nThank you for reaching out. To...     high   Request   \n",
       "2  Dear <name>,\\n\\nThank you for reaching out to ...     high   Request   \n",
       "3  Dear <name>,\\n\\nThank you for reaching out to ...     high   Problem   \n",
       "4  Dear <name>,\\n\\nThank you for reaching out wit...     high    Change   \n",
       "\n",
       "                category                  tag_1              tag_2    id  \n",
       "0      Technical Support           Urgent Issue  Technical Support   542  \n",
       "1      Technical Support             IT Support       Urgent Issue   259  \n",
       "2      Technical Support      Technical Support      Billing Issue    43  \n",
       "3  Returns and Exchanges  Returns and Exchanges    Product Support  1009  \n",
       "4       Customer Service           Urgent Issue  Technical Support   753  "
      ]
     },
     "execution_count": 42,
     "metadata": {},
     "output_type": "execute_result"
    }
   ],
   "source": [
    "files.get_table(\"tickets\").fetch().head()"
   ]
  },
  {
   "cell_type": "markdown",
   "id": "6fa55a71",
   "metadata": {},
   "source": [
    "## Save ticket to tickets table"
   ]
  },
  {
   "cell_type": "code",
   "execution_count": 62,
   "id": "f8fd14a7",
   "metadata": {},
   "outputs": [
    {
     "data": {
      "text/plain": [
       "np.int64(1216)"
      ]
     },
     "execution_count": 62,
     "metadata": {},
     "output_type": "execute_result"
    }
   ],
   "source": [
    "def get_max_id():\n",
    "    query = \"SELECT MAX(id) as max_id FROM files.tickets\"\n",
    "    result = server.query(query).fetch()\n",
    "    return result[\"max_id\"][0]\n",
    "\n",
    "\n",
    "get_max_id()"
   ]
  },
  {
   "cell_type": "code",
   "execution_count": 86,
   "id": "4d0626af",
   "metadata": {},
   "outputs": [],
   "source": [
    "def save_ticket(\n",
    "    subject,\n",
    "    body,\n",
    "    answer,\n",
    "    priority,\n",
    "    type,\n",
    "    category,\n",
    "    tag_1,\n",
    "    tag_2,\n",
    "):\n",
    "    max_id = get_max_id()\n",
    "    new_id = max_id + 1 if max_id is not None else 0\n",
    "\n",
    "    tickets_table = files.get_table(\"tickets\")\n",
    "    tickets_table.insert(\n",
    "        pd.DataFrame(\n",
    "            {\n",
    "                \"id\": [new_id],\n",
    "                \"subject\": [subject],\n",
    "                \"body\": [body],\n",
    "                \"answer\": [answer],\n",
    "                \"priority\": [priority],\n",
    "                \"type\": [type],\n",
    "                \"category\": [category],\n",
    "                \"tag_1\": [tag_1],\n",
    "                \"tag_2\": [tag_2],\n",
    "            }\n",
    "        )\n",
    "    )\n",
    "\n",
    "    return new_id"
   ]
  },
  {
   "cell_type": "code",
   "execution_count": 73,
   "id": "0178730f",
   "metadata": {},
   "outputs": [],
   "source": [
    "def fetch_ticket(id: int):\n",
    "    fetch_query = f\"\"\"\n",
    "    SELECT * FROM files.tickets\n",
    "    WHERE id = {id}\n",
    "    \"\"\"\n",
    "\n",
    "    return server.query(fetch_query).fetch().iloc[0].to_dict()"
   ]
  },
  {
   "cell_type": "markdown",
   "id": "968db4ba",
   "metadata": {},
   "source": [
    "## Create a Knowledge Base from the tickets"
   ]
  },
  {
   "cell_type": "code",
   "execution_count": 45,
   "id": "6d8f3d77",
   "metadata": {},
   "outputs": [
    {
     "data": {
      "text/plain": [
       "KnowledgeBase(mindsdb.tickets_kb)"
      ]
     },
     "execution_count": 45,
     "metadata": {},
     "output_type": "execute_result"
    }
   ],
   "source": [
    "server.knowledge_bases.create(\n",
    "    \"tickets_kb\",\n",
    "    embedding_model={\n",
    "        \"provider\": \"openai\",\n",
    "        \"model_name\": EMBEDDING_MODEL_NAME,\n",
    "        \"base_url\": NEBIUS_BASE_URL,\n",
    "        \"api_key\": NEBIUS_API_KEY,\n",
    "    },\n",
    "    content_columns=[\"subject\", \"body\", \"answer\"],\n",
    "    metadata_columns=[\"type\", \"priority\", \"category\", \"tag_1\", \"tag_2\"],\n",
    "    id_column=\"id\",\n",
    ")"
   ]
  },
  {
   "cell_type": "code",
   "execution_count": null,
   "id": "9e863540",
   "metadata": {},
   "outputs": [],
   "source": [
    "kb = server.knowledge_bases.get(\"tickets_kb\")\n",
    "kb.insert_files([\"tickets\"])"
   ]
  },
  {
   "cell_type": "code",
   "execution_count": 48,
   "id": "f0ff4f5c",
   "metadata": {},
   "outputs": [
    {
     "data": {
      "text/html": [
       "<div>\n",
       "<style scoped>\n",
       "    .dataframe tbody tr th:only-of-type {\n",
       "        vertical-align: middle;\n",
       "    }\n",
       "\n",
       "    .dataframe tbody tr th {\n",
       "        vertical-align: top;\n",
       "    }\n",
       "\n",
       "    .dataframe thead th {\n",
       "        text-align: right;\n",
       "    }\n",
       "</style>\n",
       "<table border=\"1\" class=\"dataframe\">\n",
       "  <thead>\n",
       "    <tr style=\"text-align: right;\">\n",
       "      <th></th>\n",
       "      <th>id</th>\n",
       "      <th>chunk_id</th>\n",
       "      <th>chunk_content</th>\n",
       "      <th>distance</th>\n",
       "      <th>relevance</th>\n",
       "      <th>tag_2</th>\n",
       "      <th>priority</th>\n",
       "      <th>type</th>\n",
       "      <th>category</th>\n",
       "      <th>tag_1</th>\n",
       "      <th>metadata</th>\n",
       "    </tr>\n",
       "  </thead>\n",
       "  <tbody>\n",
       "    <tr>\n",
       "      <th>0</th>\n",
       "      <td>622</td>\n",
       "      <td>622:subject:1of1:0to23</td>\n",
       "      <td>Smart TV Screen Flicker</td>\n",
       "      <td>0.299010</td>\n",
       "      <td>0.769817</td>\n",
       "      <td>Technical Support</td>\n",
       "      <td>high</td>\n",
       "      <td>Incident</td>\n",
       "      <td>Product Support</td>\n",
       "      <td>Product Support</td>\n",
       "      <td>{'_chunk_index': 0, '_content_column': 'subjec...</td>\n",
       "    </tr>\n",
       "    <tr>\n",
       "      <th>1</th>\n",
       "      <td>864</td>\n",
       "      <td>864:subject:1of1:0to47</td>\n",
       "      <td>Display Flickering Issue on Dell XPS 13 Product</td>\n",
       "      <td>0.349539</td>\n",
       "      <td>0.740994</td>\n",
       "      <td>Product Support</td>\n",
       "      <td>high</td>\n",
       "      <td>Incident</td>\n",
       "      <td>Product Support</td>\n",
       "      <td>Technical Support</td>\n",
       "      <td>{'_chunk_index': 0, '_content_column': 'subjec...</td>\n",
       "    </tr>\n",
       "  </tbody>\n",
       "</table>\n",
       "</div>"
      ],
      "text/plain": [
       "    id                chunk_id  \\\n",
       "0  622  622:subject:1of1:0to23   \n",
       "1  864  864:subject:1of1:0to47   \n",
       "\n",
       "                                     chunk_content  distance  relevance  \\\n",
       "0                          Smart TV Screen Flicker  0.299010   0.769817   \n",
       "1  Display Flickering Issue on Dell XPS 13 Product  0.349539   0.740994   \n",
       "\n",
       "               tag_2 priority      type         category              tag_1  \\\n",
       "0  Technical Support     high  Incident  Product Support    Product Support   \n",
       "1    Product Support     high  Incident  Product Support  Technical Support   \n",
       "\n",
       "                                            metadata  \n",
       "0  {'_chunk_index': 0, '_content_column': 'subjec...  \n",
       "1  {'_chunk_index': 0, '_content_column': 'subjec...  "
      ]
     },
     "execution_count": 48,
     "metadata": {},
     "output_type": "execute_result"
    }
   ],
   "source": [
    "def search_kb(\n",
    "    content: str,\n",
    "    filters: dict = None,  # pyright: ignore[reportArgumentType]\n",
    "    top_k: int = 3,\n",
    "):\n",
    "    if filters:\n",
    "        conditions = [f\"content = '{content}'\"]\n",
    "\n",
    "        for key in [\"type\", \"priority\", \"category\", \"tag_1\", \"tag_2\"]:\n",
    "            if filters.get(key):\n",
    "                conditions.append(f\"{key} = '{filters[key]}'\")\n",
    "\n",
    "        where_clause = \" AND \".join(conditions)\n",
    "\n",
    "        query = f\"SELECT * FROM tickets_kb WHERE {where_clause}\"\n",
    "    else:\n",
    "        query = f\"SELECT * FROM tickets_kb WHERE content = '{content}'\"\n",
    "\n",
    "    return server.query(query).fetch()[:top_k]\n",
    "\n",
    "\n",
    "search_kb(\"Dead pixels on screen\", top_k=2)"
   ]
  },
  {
   "cell_type": "markdown",
   "id": "0807d164",
   "metadata": {},
   "source": [
    "## Create Agents for Classification and Support"
   ]
  },
  {
   "cell_type": "markdown",
   "id": "a0ec463c",
   "metadata": {},
   "source": [
    "Classifier Agent"
   ]
  },
  {
   "cell_type": "code",
   "execution_count": 54,
   "id": "6d760715",
   "metadata": {},
   "outputs": [
    {
     "data": {
      "text/plain": [
       "Agent(name: ticket_classifier)"
      ]
     },
     "execution_count": 54,
     "metadata": {},
     "output_type": "execute_result"
    }
   ],
   "source": [
    "classification_prompt = \"\"\"\n",
    "You are a support ticket classification model.\n",
    "Given a customer's ticket, predict:\n",
    "\n",
    "type - Incident,Request,Problem,Change\n",
    "priority - high,medium,low\n",
    "category - Technical Support,Returns and Exchanges,Customer Service,Product Support,Billing and Payments,Sales and Pre-Sales,IT Support,Service Outages and Maintenance,General Inquiry,Human Resources\n",
    "tag_1 - Urgent Issue,IT Support,Technical Support,Returns and Exchanges,Billing Issue,Payment Processing,Sales Inquiry,Service Disruption,Software Bug,Customer Feedback,Account Security,Service Outage,Product Support,Network Issue,Customer Service,Performance Tuning,Warranty Claim,Technical Guidance,Data Breach,Incident Report,Consulting Services,Account Assistance,Login Issue,General Inquiry\n",
    "tag_2 - Technical Support,Urgent Issue,Billing Issue,Product Support,IT Support,Network Issue,Service Disruption,Performance Tuning,Payment Processing,Incident Report,Refund Request,Customer Service,Technical Guidance,Problem Resolution,Account Assistance,Software Bug,Returns and Exchanges,System Crash,System Maintenance,Sales Inquiry,Order Issue,Hardware Failure,Login Issue,Service Outage,Cloud Services,Product Replacement,Feature Request,Account Security,Service Recovery,Data Breach,Shipping Inquiry,Warranty Claim\n",
    "\n",
    "Output strictly in parsable JSON:\n",
    "{\n",
    "  \"type\": \"...\",\n",
    "  \"category\": \"...\",\n",
    "  \"priority\": \"...\",\n",
    "  \"tag_1\": \"...\",\n",
    "  \"tag_2\": \"...\"\n",
    "}\n",
    "\"\"\"\n",
    "\n",
    "server.agents.create(\n",
    "    name=\"ticket_classifier\",\n",
    "    model={\n",
    "        \"provider\": \"openai\",\n",
    "        \"model_name\": LLM_MODEL_NAME,\n",
    "        \"api_key\": NEBIUS_API_KEY,\n",
    "        \"base_url\": NEBIUS_BASE_URL,\n",
    "    },\n",
    "    data={\"knowledge_base\": \"tickets_kb\"},\n",
    "    prompt_template=classification_prompt,\n",
    ")"
   ]
  },
  {
   "cell_type": "code",
   "execution_count": null,
   "id": "6082b460",
   "metadata": {},
   "outputs": [
    {
     "data": {
      "text/plain": [
       "{'type': 'Incident',\n",
       " 'category': 'Technical Support',\n",
       " 'priority': 'high',\n",
       " 'tag_1': 'Login Issue',\n",
       " 'tag_2': 'Account Assistance'}"
      ]
     },
     "execution_count": 56,
     "metadata": {},
     "output_type": "execute_result"
    }
   ],
   "source": [
    "import json\n",
    "\n",
    "\n",
    "def classify_ticket(subject: str, body: str):\n",
    "    text = f\"Subject: {subject}\\nBody: {body}\"\n",
    "\n",
    "    agent = server.agents.get(\"ticket_classifier\")\n",
    "    response = agent.completion([{\"question\": text, \"answer\": None}])\n",
    "    return json.loads(response.content)\n"
   ]
  },
  {
   "cell_type": "markdown",
   "id": "ba7c2a51",
   "metadata": {},
   "source": [
    "Support Agent"
   ]
  },
  {
   "cell_type": "code",
   "execution_count": 57,
   "id": "2568929f",
   "metadata": {},
   "outputs": [
    {
     "data": {
      "text/plain": [
       "Agent(name: support_agent)"
      ]
     },
     "execution_count": 57,
     "metadata": {},
     "output_type": "execute_result"
    }
   ],
   "source": [
    "support_agent_prompt = \"\"\"\n",
    "You are a customer support AI agent.\n",
    "\n",
    "Use the knowledge base (support_kb) to answer customer queries.\n",
    "Retrieve relevant entries using subject, body, and existing resolutions.\n",
    "\n",
    "### Rules\n",
    "1. Reference similar past issues for accurate answers.\n",
    "2. Maintain professional, concise, friendly tone.\n",
    "3. Never expose system details or internal metadata.\n",
    "4. If insufficient context, ask clarifying questions.\n",
    "\n",
    "### Output\n",
    "A helpful, human-like response ready to send to the customer.\n",
    "\"\"\"\n",
    "\n",
    "server.agents.create(\n",
    "    name=\"support_agent\",\n",
    "    model={\n",
    "        \"provider\": \"openai\",\n",
    "        \"model_name\": LLM_MODEL_NAME,\n",
    "        \"api_key\": NEBIUS_API_KEY,\n",
    "        \"base_url\": NEBIUS_BASE_URL,\n",
    "    },\n",
    "    data={\"knowledge_base\": \"tickets_kb\"},\n",
    "    prompt_template=support_agent_prompt,\n",
    ")"
   ]
  },
  {
   "cell_type": "code",
   "execution_count": null,
   "id": "c22f4531",
   "metadata": {},
   "outputs": [],
   "source": [
    "def chat(\n",
    "    message: str,\n",
    "    message_history: list[dict] = None,  # pyright: ignore[reportArgumentType]\n",
    "):\n",
    "    agent = server.agents.get(\"support_agent\")\n",
    "\n",
    "    if message_history:\n",
    "        response = agent.completion(\n",
    "            messages=message_history + [{\"question\": message, \"answer\": None}]\n",
    "        )\n",
    "    else:\n",
    "        response = agent.completion([{\"question\": message, \"answer\": None}])\n",
    "    return response.content"
   ]
  },
  {
   "cell_type": "code",
   "execution_count": 77,
   "id": "dd47065f",
   "metadata": {},
   "outputs": [],
   "source": [
    "subject = \"Unable to access account\"\n",
    "body = \"I am having trouble logging into my account. It says my password is incorrect, but I am sure it's right. Please help!\""
   ]
  },
  {
   "cell_type": "code",
   "execution_count": 76,
   "id": "80ff5115",
   "metadata": {},
   "outputs": [
    {
     "data": {
      "text/plain": [
       "'I\\'m sorry to hear you\\'re having trouble accessing your account—that\\'s frustrating! Since you\\'re certain your password is correct, let\\'s try these quick steps:  \\n\\n1️⃣ **Use the \"Forgot Password\" link** on the login page (this sends a secure reset link to your email).  \\n2️⃣ **Check for typos**—ensure Caps Lock is off and you\\'re using the correct keyboard layout.  \\n3️⃣ **Clear your browser cache** or try logging in via incognito mode.  \\n\\nIf these don’t work, reply with:  \\n- The email associated with your account  \\n- Any error messages you see (e.g., \"Invalid credentials\")  \\n\\nI’ll help you resolve this right away! 🔒'"
      ]
     },
     "execution_count": 76,
     "metadata": {},
     "output_type": "execute_result"
    }
   ],
   "source": [
    "answer = chat(f\"Subject: {subject}\\nBody: {body}\")\n",
    "answer"
   ]
  },
  {
   "cell_type": "code",
   "execution_count": 78,
   "id": "8651dc83",
   "metadata": {},
   "outputs": [
    {
     "data": {
      "text/plain": [
       "{'type': 'Incident',\n",
       " 'category': 'Technical Support',\n",
       " 'priority': 'high',\n",
       " 'tag_1': 'Login Issue',\n",
       " 'tag_2': 'Account Assistance'}"
      ]
     },
     "execution_count": 78,
     "metadata": {},
     "output_type": "execute_result"
    }
   ],
   "source": [
    "metadata = classify_ticket(subject, body)\n",
    "metadata"
   ]
  },
  {
   "cell_type": "markdown",
   "id": "af02439e",
   "metadata": {},
   "source": [
    "## Demo"
   ]
  },
  {
   "cell_type": "code",
   "execution_count": 87,
   "id": "efdadf78",
   "metadata": {},
   "outputs": [
    {
     "data": {
      "text/plain": [
       "np.int64(1217)"
      ]
     },
     "execution_count": 87,
     "metadata": {},
     "output_type": "execute_result"
    }
   ],
   "source": [
    "id_ = save_ticket(\n",
    "    subject,\n",
    "    body,\n",
    "    answer,\n",
    "    metadata[\"priority\"],\n",
    "    metadata[\"type\"],\n",
    "    metadata[\"category\"],\n",
    "    metadata[\"tag_1\"],\n",
    "    metadata[\"tag_2\"],\n",
    ")\n",
    "id_"
   ]
  },
  {
   "cell_type": "code",
   "execution_count": 88,
   "id": "8eb109f4",
   "metadata": {},
   "outputs": [
    {
     "data": {
      "text/plain": [
       "{'subject': 'Unable to access account',\n",
       " 'body': \"I am having trouble logging into my account. It says my password is incorrect, but I am sure it's right. Please help!\",\n",
       " 'answer': 'I\\'m sorry to hear you\\'re having trouble accessing your account—that\\'s frustrating! Since you\\'re certain your password is correct, let\\'s try these quick steps:  \\\\n\\\\n1️⃣ **Use the \"Forgot Password\" link** on the login page (this sends a secure reset link to your email).  \\\\n2️⃣ **Check for typos**—ensure Caps Lock is off and you\\'re using the correct keyboard layout.  \\\\n3️⃣ **Clear your browser cache** or try logging in via incognito mode.  \\\\n\\\\nIf these don’t work, reply with:  \\\\n- The email associated with your account  \\\\n- Any error messages you see (e.g., \"Invalid credentials\")  \\\\n\\\\nI’ll help you resolve this right away! 🔒',\n",
       " 'priority': 'high',\n",
       " 'type': 'Incident',\n",
       " 'category': 'Technical Support',\n",
       " 'tag_1': 'Login Issue',\n",
       " 'tag_2': 'Account Assistance',\n",
       " 'id': 1217}"
      ]
     },
     "execution_count": 88,
     "metadata": {},
     "output_type": "execute_result"
    }
   ],
   "source": [
    "fetch_ticket(id_)"
   ]
  }
 ],
 "metadata": {
  "kernelspec": {
   "display_name": "janus",
   "language": "python",
   "name": "python3"
  },
  "language_info": {
   "codemirror_mode": {
    "name": "ipython",
    "version": 3
   },
   "file_extension": ".py",
   "mimetype": "text/x-python",
   "name": "python",
   "nbconvert_exporter": "python",
   "pygments_lexer": "ipython3",
   "version": "3.13.3"
  }
 },
 "nbformat": 4,
 "nbformat_minor": 5
}
