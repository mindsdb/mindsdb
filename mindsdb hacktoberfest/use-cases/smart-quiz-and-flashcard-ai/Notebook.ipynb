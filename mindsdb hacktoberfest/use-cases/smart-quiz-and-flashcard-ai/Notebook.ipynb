{
 "cells": [
  {
   "cell_type": "code",
   "execution_count": null,
   "id": "5df4491a",
   "metadata": {},
   "outputs": [],
   "source": [
    "import mindsdb_sdk as mdb"
   ]
  },
  {
   "cell_type": "code",
   "execution_count": null,
   "id": "68cfab8e",
   "metadata": {},
   "outputs": [],
   "source": [
    "LLM_MODEL_NAME = \"Qwen/Qwen3-235B-A22B-Thinking-2507\"\n",
    "EMBEDDING_MODEL_NAME = \"Qwen/Qwen3-Embedding-8B\"\n",
    "NEBIUS_BASE_URL = \"https://api.studio.nebius.com/v1/\"\n",
    "NEBIUS_API_KEY = \"v1.CmQKHHN0YXRpY2tleS1lMDBjMDNnYzZ0andwOHRjd2oSIXNlcnZpY2VhY2NvdW50LWUwMHZlNXZhZ2FqZDdmNnlwcTIMCK64gcgGEKuC3_cBOgwIsruZkwcQwKGZ5AJAAloDZTAw.AAAAAAAAAAHJiEVaMQSYvYQW8fRBeXaNY7fUMCXX6RwcjqlKcA1L6EV_BOEvrmLzUWXXJT1s1tGQaMXX5WMuyWQ0xxvAx3AN\""
   ]
  },
  {
   "cell_type": "markdown",
   "id": "815a4048",
   "metadata": {},
   "source": []
  },
  {
   "cell_type": "code",
   "execution_count": 3,
   "id": "1d312e38",
   "metadata": {},
   "outputs": [],
   "source": [
    "server = mdb.connect()\n",
    "files = server.get_database(\"files\")"
   ]
  },
  {
   "cell_type": "code",
   "execution_count": 55,
   "id": "17bc19ab",
   "metadata": {},
   "outputs": [
    {
     "data": {
      "text/plain": [
       "Agent(name: Flash_card_Agent)"
      ]
     },
     "execution_count": 55,
     "metadata": {},
     "output_type": "execute_result"
    }
   ],
   "source": [
    "classification_prompt = \"\"\"\n",
    "You are a flashcard generator. Use the knowledge base my_kb3 to create educational flashcards for learning and review. Each flashcard should contain a question (prompt) and its correct answer, and be focused on key facts, definitions, concepts, or formulas for maximum learning value.\n",
    "\n",
    "Flashcard Schema:\n",
    "{\n",
    "  \"question\": \"The prompt or front of the flashcard\",\n",
    "  \"answer\": \"The correct answer or back of the flashcard\",\n",
    "  \"tags\": [\"tag1\", \"tag2\"]\n",
    "}\n",
    "\n",
    "Instructions:\n",
    "1. Generate flashcards based on key concepts, definitions, facts, formulas, procedures, or best practices found in my_kb3.\n",
    "2. If the knowledge base does not contain enough information, create accurate and educational flashcards on the topic.\n",
    "3. Include at least 5 flashcards per topic unless the topic is very short.\n",
    "4. Add relevant tags to help categorize the flashcards. If no tags apply, use [\"General\"].\n",
    "5. Output strictly valid JSON only, as a JSON array following the schema above. Do not include any extra text, explanations, or comments outside the JSON array.\n",
    "\n",
    "Generate flashcards on the given topic.\n",
    "\"\"\"\n",
    "\n",
    "\n",
    "server.agents.create(\n",
    "    name=\"Flash_card_Agent\",\n",
    "    model={\n",
    "        \"provider\": \"openai\",\n",
    "        \"model_name\": LLM_MODEL_NAME,\n",
    "        \"api_key\": NEBIUS_API_KEY,\n",
    "        \"base_url\": NEBIUS_BASE_URL,\n",
    "    },\n",
    "    data={\"knowledge_base\": \"my_kb3\"},\n",
    "    prompt_template=classification_prompt,\n",
    ")"
   ]
  },
  {
   "cell_type": "code",
   "execution_count": 4,
   "id": "bf959850",
   "metadata": {},
   "outputs": [],
   "source": [
    "import json\n",
    "\n",
    "\n",
    "def generate_flashcard(subject: str):\n",
    "\n",
    "    agent = server.agents.get(\"Flash_card_Agent\")\n",
    "    response = agent.completion([{\"question\": subject, \"answer\": None}])\n",
    "    return json.loads(response.content)\n"
   ]
  },
  {
   "cell_type": "code",
   "execution_count": null,
   "id": "d1ee1bd8",
   "metadata": {},
   "outputs": [],
   "source": [
    "generate_flashcard(\"geometry\")"
   ]
  },
  {
   "cell_type": "code",
   "execution_count": 54,
   "id": "4737bc19",
   "metadata": {},
   "outputs": [],
   "source": [
    "server.agents.drop(\"Flash_card_Agent\")"
   ]
  },
  {
   "cell_type": "code",
   "execution_count": null,
   "id": "09047dba",
   "metadata": {},
   "outputs": [],
   "source": [
    "import json\n",
    "\n",
    "def generate_quiz(Query: str):\n",
    "    agent = server.agents.get(\"Quiz_Agent\")\n",
    "\n",
    "    response = agent.completion([{\"question\": Query, \"answer\": None}])\n",
    "    return json.loads(response.content)\n"
   ]
  },
  {
   "cell_type": "code",
   "execution_count": null,
   "id": "596dd310",
   "metadata": {},
   "outputs": [],
   "source": [
    "generate_quiz(\"Education\")"
   ]
  },
  {
   "cell_type": "code",
   "execution_count": null,
   "id": "c2d07e66",
   "metadata": {},
   "outputs": [],
   "source": [
    "server.agents.drop(\"Quiz_Agent\")"
   ]
  }
 ],
 "metadata": {
  "kernelspec": {
   "display_name": "knowledge-base",
   "language": "python",
   "name": "python3"
  },
  "language_info": {
   "codemirror_mode": {
    "name": "ipython",
    "version": 3
   },
   "file_extension": ".py",
   "mimetype": "text/x-python",
   "name": "python",
   "nbconvert_exporter": "python",
   "pygments_lexer": "ipython3",
   "version": "3.12.9"
  }
 },
 "nbformat": 4,
 "nbformat_minor": 5
}
